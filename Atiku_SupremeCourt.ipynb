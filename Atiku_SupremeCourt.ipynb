{
 "cells": [
  {
   "cell_type": "code",
   "execution_count": 1,
   "metadata": {},
   "outputs": [],
   "source": [
    "import pandas, os\n",
    "from textblob import TextBlob\n",
    "import matplotlib.pyplot as plt"
   ]
  },
  {
   "cell_type": "code",
   "execution_count": 2,
   "metadata": {},
   "outputs": [],
   "source": [
    "x = os.listdir()\n",
    "\n",
    "AtList = []\n",
    "\n",
    "for line in x:\n",
    "    if \"Atiku.\" in line:\n",
    "        AtList.append(line)"
   ]
  },
  {
   "cell_type": "code",
   "execution_count": 3,
   "metadata": {},
   "outputs": [
    {
     "name": "stdout",
     "output_type": "stream",
     "text": [
      "Processing Atiku.json ...\n",
      "Atiku.json done!\n"
     ]
    }
   ],
   "source": [
    "import pandas\n",
    "\n",
    "name, tweet, time, location, followers, friends, status_count = [], [], [], [], [], [], []\n",
    "for item in AtList:\n",
    "    print(\"Processing \" + item + \" ...\")        \n",
    "    df = pandas.read_json(item, lines = True)\n",
    "\n",
    "    #Get Screen name\n",
    "    for line in df.user:\n",
    "        n = line.get('screen_name')\n",
    "        name.append(n)\n",
    "        \n",
    "    #Get Tweet removing all non-characters\n",
    "    for line in df.text:\n",
    "        t = str(line).lower()\n",
    "        t.replace('[^a-zA-Z]', '')\n",
    "        tweet.append(t)\n",
    "    \n",
    "    #Get time\n",
    "    for line in df.created_at:\n",
    "        time.append(line)\n",
    "    \n",
    "    #Get Location converting to lowercase\n",
    "    for line in df.user:\n",
    "        x = line.get('location')\n",
    "        x = str(x).lower()\n",
    "        location.append(x)\n",
    "\n",
    "    #Get Followers\n",
    "    for line in df.user:\n",
    "        f = line.get('followers_count')\n",
    "        followers.append(f)\n",
    "\n",
    "    #Get Friends\n",
    "    for line in df.user:\n",
    "        fr = line.get('friends_count')\n",
    "        friends.append(fr)\n",
    "\n",
    "    #Get Status count\n",
    "    for line in df.user:\n",
    "        s = line.get('statuses_count')\n",
    "        status_count.append(s)\n",
    "    print(item + \" done!\")\n",
    "    \n",
    "    #Get device type\n",
    "devices=df[\"source\"]\n",
    "OriginDevice=[]\n",
    "android=0\n",
    "iOS=0\n",
    "other=0\n",
    "for line in devices:\n",
    "    if \"android\" in line:\n",
    "        android = android+1\n",
    "        OriginDevice.append(\"android\")\n",
    "    elif \"iphone\" in line:\n",
    "        iOS +=1\n",
    "        OriginDevice.append(\"iOS\")           \n",
    "    elif \"ipad\" in line:\n",
    "        iOS +=1\n",
    "        OriginDevice.append(\"iOS\")\n",
    "    else:\n",
    "        other += 1\n",
    "        OriginDevice.append(\"other\")\n",
    "\n",
    "\n",
    "#Build into a df\n",
    "TweetI = pandas.DataFrame(columns=('name','location', 'tweet','friends', 'followers', 'status_count'))\n",
    "\n",
    "TweetI[\"name\"] = name\n",
    "TweetI[\"location\"] = location\n",
    "TweetI['tweet'] = tweet\n",
    "TweetI['time'] = time\n",
    "TweetI['device_type'] = OriginDevice\n",
    "TweetI[\"friends\"]= friends\n",
    "TweetI['followers'] = followers\n",
    "TweetI['status_count'] = status_count\n"
   ]
  },
  {
   "cell_type": "code",
   "execution_count": 4,
   "metadata": {},
   "outputs": [
    {
     "data": {
      "text/plain": [
       "(7984, 8)"
      ]
     },
     "execution_count": 4,
     "metadata": {},
     "output_type": "execute_result"
    }
   ],
   "source": [
    "TweetI.shape"
   ]
  },
  {
   "cell_type": "code",
   "execution_count": 5,
   "metadata": {},
   "outputs": [],
   "source": [
    "locations = [line for line in TweetI.location if 'none' not in line]"
   ]
  },
  {
   "cell_type": "code",
   "execution_count": 6,
   "metadata": {},
   "outputs": [
    {
     "data": {
      "text/html": [
       "<div>\n",
       "<style scoped>\n",
       "    .dataframe tbody tr th:only-of-type {\n",
       "        vertical-align: middle;\n",
       "    }\n",
       "\n",
       "    .dataframe tbody tr th {\n",
       "        vertical-align: top;\n",
       "    }\n",
       "\n",
       "    .dataframe thead th {\n",
       "        text-align: right;\n",
       "    }\n",
       "</style>\n",
       "<table border=\"1\" class=\"dataframe\">\n",
       "  <thead>\n",
       "    <tr style=\"text-align: right;\">\n",
       "      <th></th>\n",
       "      <th>locations</th>\n",
       "    </tr>\n",
       "  </thead>\n",
       "  <tbody>\n",
       "    <tr>\n",
       "      <td>0</td>\n",
       "      <td>\\nlagos, nigeria</td>\n",
       "    </tr>\n",
       "    <tr>\n",
       "      <td>1</td>\n",
       "      <td>\\nlagos, nigeria</td>\n",
       "    </tr>\n",
       "    <tr>\n",
       "      <td>2</td>\n",
       "      <td>\\nlagos, nigeria</td>\n",
       "    </tr>\n",
       "    <tr>\n",
       "      <td>3</td>\n",
       "      <td></td>\n",
       "    </tr>\n",
       "    <tr>\n",
       "      <td>4</td>\n",
       "      <td>\"cogito, ergo sum\"</td>\n",
       "    </tr>\n",
       "  </tbody>\n",
       "</table>\n",
       "</div>"
      ],
      "text/plain": [
       "             locations\n",
       "0     \\nlagos, nigeria\n",
       "1     \\nlagos, nigeria\n",
       "2     \\nlagos, nigeria\n",
       "3                     \n",
       "4   \"cogito, ergo sum\""
      ]
     },
     "execution_count": 6,
     "metadata": {},
     "output_type": "execute_result"
    }
   ],
   "source": [
    "#Top Locations speaking\n",
    "locations.sort(reverse=False)\n",
    "locations_table = pandas.DataFrame(locations, columns=[\"locations\"])\n",
    "locations_table.head()"
   ]
  },
  {
   "cell_type": "code",
   "execution_count": 7,
   "metadata": {},
   "outputs": [
    {
     "data": {
      "text/plain": [
       "<matplotlib.axes._subplots.AxesSubplot at 0x1ff769c2f88>"
      ]
     },
     "execution_count": 7,
     "metadata": {},
     "output_type": "execute_result"
    },
    {
     "data": {
      "image/png": "[encoded data removed]",
      "text/plain": [
       "<Figure size 432x288 with 1 Axes>"
      ]
     },
     "metadata": {
      "needs_background": "light"
     },
     "output_type": "display_data"
    }
   ],
   "source": [
    "loc = pandas.Series(' '.join(locations_table['locations']).split()).value_counts()[:5]\n",
    "loc.plot.bar()"
   ]
  },
  {
   "cell_type": "code",
   "execution_count": 8,
   "metadata": {},
   "outputs": [],
   "source": [
    "def get_sentiment(df):\n",
    "    \"\"\"\n",
    "    Sentiment analysis with TextBlob. Plot will take into account only the pos and neg\n",
    "    Result will be plugged back into the dataframe adding columns for sentiment.\n",
    "    \"\"\"\n",
    "    polarity = 0\n",
    "    positive = 0\n",
    "    negative = 0\n",
    "    neutral = 0\n",
    "    sentiment = []\n",
    "\n",
    "    for tweet in df.tweet:\n",
    "        analysis=TextBlob(str(tweet))\n",
    "        polarity += analysis.sentiment.polarity\n",
    "        if (analysis.sentiment.polarity == 0):\n",
    "            neutral += 1\n",
    "            sentiment.append(\"neutral\")\n",
    "        elif (analysis.sentiment.polarity < 0.00):\n",
    "            negative += 1\n",
    "            sentiment.append(\"negative\")\n",
    "        elif (analysis.sentiment.polarity > 0.00):\n",
    "            positive += 1\n",
    "            sentiment.append(\"positive\")\n",
    "    \n",
    "        #Show summary\n",
    "    print(\"positive tweets are: \" + str(positive))\n",
    "    print(\"negative tweets are: \" + str(negative))\n",
    "    print(\"neutral tweets are: \" + str(neutral))\n",
    "    print(\"A total of {} was analysed.\".format(positive+negative+neutral))\n",
    "    \n",
    "    #Plotting 1\n",
    "    #Data to Plot\n",
    "    labels = 'Positive', 'Negative'\n",
    "    sizes = [positive, negative]\n",
    "    colors = ['green', 'brown']\n",
    "    explode = (0.1, 0)  # explode 1st slice\n",
    "\n",
    "    # Plot\n",
    "    plt.pie(sizes, explode=explode, labels=labels, autopct='%1.1f%%', colors=colors,shadow=True, startangle=140)\n",
    "    plt.axis('equal')\n",
    "    plt.title(\"Sentiment Analysis Result\")\n",
    "    plt.show()\n",
    "\n",
    "    df[\"sentiments\"] = sentiment\n",
    "    return df"
   ]
  },
  {
   "cell_type": "code",
   "execution_count": 9,
   "metadata": {},
   "outputs": [
    {
     "name": "stdout",
     "output_type": "stream",
     "text": [
      "positive tweets are: 1757\n",
      "negative tweets are: 1490\n",
      "neutral tweets are: 4737\n",
      "A total of 7984 was analysed.\n"
     ]
    },
    {
     "data": {
      "image/png": "[encoded data removed]",
      "text/plain": [
       "<Figure size 432x288 with 1 Axes>"
      ]
     },
     "metadata": {},
     "output_type": "display_data"
    }
   ],
   "source": [
    "n_TweetI = get_sentiment(TweetI)"
   ]
  },
  {
   "cell_type": "code",
   "execution_count": 10,
   "metadata": {},
   "outputs": [
    {
     "data": {
      "text/html": [
       "<div>\n",
       "<style scoped>\n",
       "    .dataframe tbody tr th:only-of-type {\n",
       "        vertical-align: middle;\n",
       "    }\n",
       "\n",
       "    .dataframe tbody tr th {\n",
       "        vertical-align: top;\n",
       "    }\n",
       "\n",
       "    .dataframe thead th {\n",
       "        text-align: right;\n",
       "    }\n",
       "</style>\n",
       "<table border=\"1\" class=\"dataframe\">\n",
       "  <thead>\n",
       "    <tr style=\"text-align: right;\">\n",
       "      <th></th>\n",
       "      <th>name</th>\n",
       "      <th>location</th>\n",
       "      <th>tweet</th>\n",
       "      <th>friends</th>\n",
       "      <th>followers</th>\n",
       "      <th>status_count</th>\n",
       "      <th>time</th>\n",
       "      <th>device_type</th>\n",
       "      <th>sentiments</th>\n",
       "    </tr>\n",
       "  </thead>\n",
       "  <tbody>\n",
       "    <tr>\n",
       "      <td>0</td>\n",
       "      <td>bayonuels</td>\n",
       "      <td>oyo, nigeria</td>\n",
       "      <td>rt @rasheedfuggi: english: we are dead! abubak...</td>\n",
       "      <td>7015</td>\n",
       "      <td>6428</td>\n",
       "      <td>29310</td>\n",
       "      <td>2019-10-30 14:51:23+00:00</td>\n",
       "      <td>android</td>\n",
       "      <td>negative</td>\n",
       "    </tr>\n",
       "    <tr>\n",
       "      <td>1</td>\n",
       "      <td>geo_geomoney</td>\n",
       "      <td>lagos, nigeria</td>\n",
       "      <td>to hell with atiku!!!\\nto hell to @officialpdp...</td>\n",
       "      <td>754</td>\n",
       "      <td>783</td>\n",
       "      <td>6459</td>\n",
       "      <td>2019-10-30 14:51:23+00:00</td>\n",
       "      <td>android</td>\n",
       "      <td>neutral</td>\n",
       "    </tr>\n",
       "    <tr>\n",
       "      <td>2</td>\n",
       "      <td>mahmud19971</td>\n",
       "      <td>birmingham x abuja</td>\n",
       "      <td>rt @abdulmahmud01: judge who? you guys are the...</td>\n",
       "      <td>325</td>\n",
       "      <td>244</td>\n",
       "      <td>11869</td>\n",
       "      <td>2019-10-30 14:51:24+00:00</td>\n",
       "      <td>iOS</td>\n",
       "      <td>positive</td>\n",
       "    </tr>\n",
       "    <tr>\n",
       "      <td>3</td>\n",
       "      <td>Irisali14</td>\n",
       "      <td>abuja nigeria</td>\n",
       "      <td>@daily_trust @mbuhari https://t.co/zkvoweowfa</td>\n",
       "      <td>453</td>\n",
       "      <td>83</td>\n",
       "      <td>1799</td>\n",
       "      <td>2019-10-30 14:51:25+00:00</td>\n",
       "      <td>other</td>\n",
       "      <td>neutral</td>\n",
       "    </tr>\n",
       "    <tr>\n",
       "      <td>4</td>\n",
       "      <td>segilolaa</td>\n",
       "      <td>lagos</td>\n",
       "      <td>rt @officialapcng: with the ruling of the supr...</td>\n",
       "      <td>1153</td>\n",
       "      <td>5109</td>\n",
       "      <td>59768</td>\n",
       "      <td>2019-10-30 14:51:26+00:00</td>\n",
       "      <td>android</td>\n",
       "      <td>neutral</td>\n",
       "    </tr>\n",
       "    <tr>\n",
       "      <td>...</td>\n",
       "      <td>...</td>\n",
       "      <td>...</td>\n",
       "      <td>...</td>\n",
       "      <td>...</td>\n",
       "      <td>...</td>\n",
       "      <td>...</td>\n",
       "      <td>...</td>\n",
       "      <td>...</td>\n",
       "      <td>...</td>\n",
       "    </tr>\n",
       "    <tr>\n",
       "      <td>7979</td>\n",
       "      <td>OmareDorsu</td>\n",
       "      <td>warri, nigeria</td>\n",
       "      <td>rt @fkeyamo: congratulations nigeria! all the ...</td>\n",
       "      <td>793</td>\n",
       "      <td>166</td>\n",
       "      <td>10565</td>\n",
       "      <td>2019-10-30 16:45:57+00:00</td>\n",
       "      <td>android</td>\n",
       "      <td>positive</td>\n",
       "    </tr>\n",
       "    <tr>\n",
       "      <td>7980</td>\n",
       "      <td>WuBila01</td>\n",
       "      <td>abuja, nigeria.</td>\n",
       "      <td>rt @mobilepunch: supreme court judgment: accep...</td>\n",
       "      <td>1491</td>\n",
       "      <td>252</td>\n",
       "      <td>3141</td>\n",
       "      <td>2019-10-30 16:45:57+00:00</td>\n",
       "      <td>android</td>\n",
       "      <td>positive</td>\n",
       "    </tr>\n",
       "    <tr>\n",
       "      <td>7981</td>\n",
       "      <td>B1OLA</td>\n",
       "      <td>none</td>\n",
       "      <td>lol. as expected.</td>\n",
       "      <td>1611</td>\n",
       "      <td>4427</td>\n",
       "      <td>186853</td>\n",
       "      <td>2019-10-30 16:45:57+00:00</td>\n",
       "      <td>android</td>\n",
       "      <td>positive</td>\n",
       "    </tr>\n",
       "    <tr>\n",
       "      <td>7982</td>\n",
       "      <td>almaleek50</td>\n",
       "      <td>the gambia</td>\n",
       "      <td>rt @theresatekenah: buhari has a certificate b...</td>\n",
       "      <td>5002</td>\n",
       "      <td>972</td>\n",
       "      <td>11678</td>\n",
       "      <td>2019-10-30 16:46:00+00:00</td>\n",
       "      <td>android</td>\n",
       "      <td>negative</td>\n",
       "    </tr>\n",
       "    <tr>\n",
       "      <td>7983</td>\n",
       "      <td>ADAMKAMBAREE1</td>\n",
       "      <td>federal capital territory, nig</td>\n",
       "      <td>rt @mickiebrownkie: what else is he looking fo...</td>\n",
       "      <td>282</td>\n",
       "      <td>358</td>\n",
       "      <td>9684</td>\n",
       "      <td>2019-10-30 16:46:01+00:00</td>\n",
       "      <td>android</td>\n",
       "      <td>positive</td>\n",
       "    </tr>\n",
       "  </tbody>\n",
       "</table>\n",
       "<p>7984 rows × 9 columns</p>\n",
       "</div>"
      ],
      "text/plain": [
       "               name                        location  \\\n",
       "0         bayonuels                    oyo, nigeria   \n",
       "1      geo_geomoney                  lagos, nigeria   \n",
       "2       mahmud19971             birmingham x abuja    \n",
       "3         Irisali14                   abuja nigeria   \n",
       "4         segilolaa                           lagos   \n",
       "...             ...                             ...   \n",
       "7979     OmareDorsu                  warri, nigeria   \n",
       "7980       WuBila01                 abuja, nigeria.   \n",
       "7981          B1OLA                            none   \n",
       "7982     almaleek50                      the gambia   \n",
       "7983  ADAMKAMBAREE1  federal capital territory, nig   \n",
       "\n",
       "                                                  tweet  friends  followers  \\\n",
       "0     rt @rasheedfuggi: english: we are dead! abubak...     7015       6428   \n",
       "1     to hell with atiku!!!\\nto hell to @officialpdp...      754        783   \n",
       "2     rt @abdulmahmud01: judge who? you guys are the...      325        244   \n",
       "3         @daily_trust @mbuhari https://t.co/zkvoweowfa      453         83   \n",
       "4     rt @officialapcng: with the ruling of the supr...     1153       5109   \n",
       "...                                                 ...      ...        ...   \n",
       "7979  rt @fkeyamo: congratulations nigeria! all the ...      793        166   \n",
       "7980  rt @mobilepunch: supreme court judgment: accep...     1491        252   \n",
       "7981                                  lol. as expected.     1611       4427   \n",
       "7982  rt @theresatekenah: buhari has a certificate b...     5002        972   \n",
       "7983  rt @mickiebrownkie: what else is he looking fo...      282        358   \n",
       "\n",
       "      status_count                      time device_type sentiments  \n",
       "0            29310 2019-10-30 14:51:23+00:00     android   negative  \n",
       "1             6459 2019-10-30 14:51:23+00:00     android    neutral  \n",
       "2            11869 2019-10-30 14:51:24+00:00         iOS   positive  \n",
       "3             1799 2019-10-30 14:51:25+00:00       other    neutral  \n",
       "4            59768 2019-10-30 14:51:26+00:00     android    neutral  \n",
       "...            ...                       ...         ...        ...  \n",
       "7979         10565 2019-10-30 16:45:57+00:00     android   positive  \n",
       "7980          3141 2019-10-30 16:45:57+00:00     android   positive  \n",
       "7981        186853 2019-10-30 16:45:57+00:00     android   positive  \n",
       "7982         11678 2019-10-30 16:46:00+00:00     android   negative  \n",
       "7983          9684 2019-10-30 16:46:01+00:00     android   positive  \n",
       "\n",
       "[7984 rows x 9 columns]"
      ]
     },
     "execution_count": 10,
     "metadata": {},
     "output_type": "execute_result"
    }
   ],
   "source": [
    "n_TweetI"
   ]
  },
  {
   "cell_type": "markdown",
   "metadata": {},
   "source": [
    "# NLP"
   ]
  },
  {
   "cell_type": "code",
   "execution_count": 11,
   "metadata": {},
   "outputs": [
    {
     "name": "stderr",
     "output_type": "stream",
     "text": [
      "[nltk_data] Downloading package stopwords to\n",
      "[nltk_data]     C:\\Users\\USER\\AppData\\Roaming\\nltk_data...\n",
      "[nltk_data]   Package stopwords is already up-to-date!\n",
      "[nltk_data] Downloading package wordnet to\n",
      "[nltk_data]     C:\\Users\\USER\\AppData\\Roaming\\nltk_data...\n",
      "[nltk_data]   Package wordnet is already up-to-date!\n"
     ]
    }
   ],
   "source": [
    "from collections import Counter\n",
    "from wordcloud import WordCloud, STOPWORDS, ImageColorGenerator\n",
    "import matplotlib.pyplot as plt\n",
    "%matplotlib inline\n",
    "\n",
    "# Libraries for text preprocessing\n",
    "import re\n",
    "import nltk\n",
    "nltk.download('stopwords')\n",
    "from nltk.corpus import stopwords\n",
    "from nltk.stem.porter import PorterStemmer\n",
    "from nltk.tokenize import RegexpTokenizer\n",
    "nltk.download('wordnet') \n",
    "from nltk.stem.wordnet import WordNetLemmatizer"
   ]
  },
  {
   "cell_type": "code",
   "execution_count": 12,
   "metadata": {},
   "outputs": [
    {
     "data": {
      "text/plain": [
       "the        6662\n",
       "rt         4826\n",
       "supreme    2841\n",
       "court      2818\n",
       "to         2564\n",
       "atiku      2491\n",
       "of         2161\n",
       "and        1848\n",
       "@atiku     1845\n",
       "is         1764\n",
       "you        1421\n",
       "in         1417\n",
       "has        1368\n",
       "a          1274\n",
       "that       1055\n",
       "appeal      998\n",
       "i           984\n",
       "not         931\n",
       "for         898\n",
       "about       872\n",
       "dtype: int64"
      ]
     },
     "execution_count": 12,
     "metadata": {},
     "output_type": "execute_result"
    }
   ],
   "source": [
    "#See if there are other words we want to add to drop words by looking at the freq words in the tweets by \n",
    "#dentifying the 20 most common words\n",
    "freq = pandas.Series(' '.join(n_TweetI['tweet']).split()).value_counts()[:20]\n",
    "freq"
   ]
  },
  {
   "cell_type": "code",
   "execution_count": 13,
   "metadata": {},
   "outputs": [],
   "source": [
    "##Creating a list of stop words\n",
    "stop_words = stopwords.words(\"english\")"
   ]
  },
  {
   "cell_type": "code",
   "execution_count": 14,
   "metadata": {},
   "outputs": [],
   "source": [
    "#Add more words to stopwords from own frequency output\n",
    "stop_words.append(\"rt\")"
   ]
  },
  {
   "cell_type": "code",
   "execution_count": 15,
   "metadata": {},
   "outputs": [],
   "source": [
    "#Identify the top discussion drivers\n",
    "tweets = [line for line in n_TweetI.tweet]\n",
    "rts = [line.lower() for line in tweets if 'rt' in line] #get all retweets\n",
    "influencers = [line.split(\":\")[0] for line in rts] #isolate the handles retweeted"
   ]
  },
  {
   "cell_type": "code",
   "execution_count": 16,
   "metadata": {},
   "outputs": [
    {
     "data": {
      "text/html": [
       "<div>\n",
       "<style scoped>\n",
       "    .dataframe tbody tr th:only-of-type {\n",
       "        vertical-align: middle;\n",
       "    }\n",
       "\n",
       "    .dataframe tbody tr th {\n",
       "        vertical-align: top;\n",
       "    }\n",
       "\n",
       "    .dataframe thead th {\n",
       "        text-align: right;\n",
       "    }\n",
       "</style>\n",
       "<table border=\"1\" class=\"dataframe\">\n",
       "  <thead>\n",
       "    <tr style=\"text-align: right;\">\n",
       "      <th></th>\n",
       "      <th>influencers</th>\n",
       "    </tr>\n",
       "  </thead>\n",
       "  <tbody>\n",
       "    <tr>\n",
       "      <td>0</td>\n",
       "      <td>rt @1stofhissname</td>\n",
       "    </tr>\n",
       "    <tr>\n",
       "      <td>1</td>\n",
       "      <td>rt @1stofhissname</td>\n",
       "    </tr>\n",
       "    <tr>\n",
       "      <td>2</td>\n",
       "      <td>rt @1stofhissname</td>\n",
       "    </tr>\n",
       "    <tr>\n",
       "      <td>3</td>\n",
       "      <td>rt @1stofhissname</td>\n",
       "    </tr>\n",
       "    <tr>\n",
       "      <td>4</td>\n",
       "      <td>rt @1stofhissname</td>\n",
       "    </tr>\n",
       "  </tbody>\n",
       "</table>\n",
       "</div>"
      ],
      "text/plain": [
       "         influencers\n",
       "0  rt @1stofhissname\n",
       "1  rt @1stofhissname\n",
       "2  rt @1stofhissname\n",
       "3  rt @1stofhissname\n",
       "4  rt @1stofhissname"
      ]
     },
     "execution_count": 16,
     "metadata": {},
     "output_type": "execute_result"
    }
   ],
   "source": [
    "influencers_sorted = [line for line in influencers if line.startswith(\"rt\")]\n",
    "influencers_sorted.sort(reverse=False)\n",
    "influencers_sorted\n",
    "influencers_table = pandas.DataFrame(influencers_sorted, columns=[\"influencers\"])\n",
    "influencers_table.head()"
   ]
  },
  {
   "cell_type": "code",
   "execution_count": 17,
   "metadata": {},
   "outputs": [
    {
     "data": {
      "text/plain": [
       "<matplotlib.axes._subplots.AxesSubplot at 0x1ff77684648>"
      ]
     },
     "execution_count": 17,
     "metadata": {},
     "output_type": "execute_result"
    },
    {
     "data": {
      "image/png": "[encoded data removed]",
      "text/plain": [
       "<Figure size 432x288 with 1 Axes>"
      ]
     },
     "metadata": {
      "needs_background": "light"
     },
     "output_type": "display_data"
    }
   ],
   "source": [
    "infl = pandas.Series(' '.join(influencers_table['influencers']).split()).value_counts()[1:6] #drop first one 'rt'\n",
    "infl.plot.bar()"
   ]
  },
  {
   "cell_type": "code",
   "execution_count": 18,
   "metadata": {},
   "outputs": [],
   "source": [
    "#Clean up. We will take the tweets alone as a list\n",
    "tweets = [line for line in n_TweetI.tweet]\n",
    "\n",
    "#Remove links\n",
    "split_tweets = []\n",
    "for tweet in tweets:\n",
    "    #print(tweet.split())\n",
    "    split_tweets.append([line for line in tweet.split() if not line.startswith(\"htt\") ])\n",
    "\n",
    "#Assemble the tweets back from their split state\n",
    "assy_tweets = [' '.join(line) for line in split_tweets]\n",
    "    \n",
    "corpus = [] #variable to hold our cleaned tweets\n",
    "for i in range(0, len(assy_tweets)):\n",
    "    #Remove punctuations. Removes all characters NOT a-z or A-Z or 0-9 and replace with nothing ie ' ' note: carat inside the []\n",
    "    text = re.sub('[^a-zA-Z + 0-9]', ' ', assy_tweets[i])\n",
    "    \n",
    "    #Convert to lowercase\n",
    "    text = text.lower()\n",
    "    \n",
    "    #remove tags\n",
    "    text=re.sub(\"&lt;/?.*?&gt;\",\" &lt;&gt; \",text)\n",
    "    \n",
    "    # remove special characters and digits\n",
    "    text=re.sub(\"(\\\\W)+\",\" \",text)\n",
    "    \n",
    "    ##Convert to list from string\n",
    "    text = text.split()\n",
    "    \n",
    "    ##Stemming\n",
    "    ps=PorterStemmer()\n",
    "    #Lemmatisation + stopwords removal\n",
    "    lem = WordNetLemmatizer()\n",
    "    text = [lem.lemmatize(word) for word in text if not word in  \n",
    "            stop_words] \n",
    "    text = \" \".join(text)\n",
    "    corpus.append(text)"
   ]
  },
  {
   "cell_type": "code",
   "execution_count": 19,
   "metadata": {},
   "outputs": [
    {
     "data": {
      "text/html": [
       "<div>\n",
       "<style scoped>\n",
       "    .dataframe tbody tr th:only-of-type {\n",
       "        vertical-align: middle;\n",
       "    }\n",
       "\n",
       "    .dataframe tbody tr th {\n",
       "        vertical-align: top;\n",
       "    }\n",
       "\n",
       "    .dataframe thead th {\n",
       "        text-align: right;\n",
       "    }\n",
       "</style>\n",
       "<table border=\"1\" class=\"dataframe\">\n",
       "  <thead>\n",
       "    <tr style=\"text-align: right;\">\n",
       "      <th></th>\n",
       "      <th>name</th>\n",
       "      <th>location</th>\n",
       "      <th>tweet</th>\n",
       "      <th>friends</th>\n",
       "      <th>followers</th>\n",
       "      <th>status_count</th>\n",
       "      <th>time</th>\n",
       "      <th>device_type</th>\n",
       "      <th>sentiments</th>\n",
       "      <th>cleaned_tweets</th>\n",
       "    </tr>\n",
       "  </thead>\n",
       "  <tbody>\n",
       "    <tr>\n",
       "      <td>0</td>\n",
       "      <td>bayonuels</td>\n",
       "      <td>oyo, nigeria</td>\n",
       "      <td>rt @rasheedfuggi: english: we are dead! abubak...</td>\n",
       "      <td>7015</td>\n",
       "      <td>6428</td>\n",
       "      <td>29310</td>\n",
       "      <td>2019-10-30 14:51:23+00:00</td>\n",
       "      <td>android</td>\n",
       "      <td>negative</td>\n",
       "      <td>rasheedfuggi english dead abubakar yoruba atik...</td>\n",
       "    </tr>\n",
       "    <tr>\n",
       "      <td>1</td>\n",
       "      <td>geo_geomoney</td>\n",
       "      <td>lagos, nigeria</td>\n",
       "      <td>to hell with atiku!!!\\nto hell to @officialpdp...</td>\n",
       "      <td>754</td>\n",
       "      <td>783</td>\n",
       "      <td>6459</td>\n",
       "      <td>2019-10-30 14:51:23+00:00</td>\n",
       "      <td>android</td>\n",
       "      <td>neutral</td>\n",
       "      <td>hell atiku hell officialpdpnig congratulation ...</td>\n",
       "    </tr>\n",
       "  </tbody>\n",
       "</table>\n",
       "</div>"
      ],
      "text/plain": [
       "           name        location  \\\n",
       "0     bayonuels    oyo, nigeria   \n",
       "1  geo_geomoney  lagos, nigeria   \n",
       "\n",
       "                                               tweet  friends  followers  \\\n",
       "0  rt @rasheedfuggi: english: we are dead! abubak...     7015       6428   \n",
       "1  to hell with atiku!!!\\nto hell to @officialpdp...      754        783   \n",
       "\n",
       "   status_count                      time device_type sentiments  \\\n",
       "0         29310 2019-10-30 14:51:23+00:00     android   negative   \n",
       "1          6459 2019-10-30 14:51:23+00:00     android    neutral   \n",
       "\n",
       "                                      cleaned_tweets  \n",
       "0  rasheedfuggi english dead abubakar yoruba atik...  \n",
       "1  hell atiku hell officialpdpnig congratulation ...  "
      ]
     },
     "execution_count": 19,
     "metadata": {},
     "output_type": "execute_result"
    }
   ],
   "source": [
    "#add to datraframe\n",
    "n_TweetI[\"cleaned_tweets\"] = corpus\n",
    "n_TweetI.head(2)"
   ]
  },
  {
   "cell_type": "code",
   "execution_count": 20,
   "metadata": {},
   "outputs": [
    {
     "data": {
      "text/html": [
       "<div>\n",
       "<style scoped>\n",
       "    .dataframe tbody tr th:only-of-type {\n",
       "        vertical-align: middle;\n",
       "    }\n",
       "\n",
       "    .dataframe tbody tr th {\n",
       "        vertical-align: top;\n",
       "    }\n",
       "\n",
       "    .dataframe thead th {\n",
       "        text-align: right;\n",
       "    }\n",
       "</style>\n",
       "<table border=\"1\" class=\"dataframe\">\n",
       "  <thead>\n",
       "    <tr style=\"text-align: right;\">\n",
       "      <th></th>\n",
       "      <th>name</th>\n",
       "      <th>location</th>\n",
       "      <th>tweet</th>\n",
       "      <th>friends</th>\n",
       "      <th>followers</th>\n",
       "      <th>status_count</th>\n",
       "      <th>time</th>\n",
       "      <th>device_type</th>\n",
       "      <th>sentiments</th>\n",
       "      <th>text</th>\n",
       "    </tr>\n",
       "  </thead>\n",
       "  <tbody>\n",
       "    <tr>\n",
       "      <td>0</td>\n",
       "      <td>bayonuels</td>\n",
       "      <td>oyo, nigeria</td>\n",
       "      <td>rt @rasheedfuggi: english: we are dead! abubak...</td>\n",
       "      <td>7015</td>\n",
       "      <td>6428</td>\n",
       "      <td>29310</td>\n",
       "      <td>2019-10-30 14:51:23+00:00</td>\n",
       "      <td>android</td>\n",
       "      <td>negative</td>\n",
       "      <td>rasheedfuggi english dead abubakar yoruba atik...</td>\n",
       "    </tr>\n",
       "    <tr>\n",
       "      <td>1</td>\n",
       "      <td>geo_geomoney</td>\n",
       "      <td>lagos, nigeria</td>\n",
       "      <td>to hell with atiku!!!\\nto hell to @officialpdp...</td>\n",
       "      <td>754</td>\n",
       "      <td>783</td>\n",
       "      <td>6459</td>\n",
       "      <td>2019-10-30 14:51:23+00:00</td>\n",
       "      <td>android</td>\n",
       "      <td>neutral</td>\n",
       "      <td>hell atiku hell officialpdpnig congratulation ...</td>\n",
       "    </tr>\n",
       "  </tbody>\n",
       "</table>\n",
       "</div>"
      ],
      "text/plain": [
       "           name        location  \\\n",
       "0     bayonuels    oyo, nigeria   \n",
       "1  geo_geomoney  lagos, nigeria   \n",
       "\n",
       "                                               tweet  friends  followers  \\\n",
       "0  rt @rasheedfuggi: english: we are dead! abubak...     7015       6428   \n",
       "1  to hell with atiku!!!\\nto hell to @officialpdp...      754        783   \n",
       "\n",
       "   status_count                      time device_type sentiments  \\\n",
       "0         29310 2019-10-30 14:51:23+00:00     android   negative   \n",
       "1          6459 2019-10-30 14:51:23+00:00     android    neutral   \n",
       "\n",
       "                                                text  \n",
       "0  rasheedfuggi english dead abubakar yoruba atik...  \n",
       "1  hell atiku hell officialpdpnig congratulation ...  "
      ]
     },
     "execution_count": 20,
     "metadata": {},
     "output_type": "execute_result"
    }
   ],
   "source": [
    "#Rename columns so we can use get_sentiment func\n",
    "n_TweetI = n_TweetI.rename(columns = {'text':'noClean_tweet'})\n",
    "n_TweetI = n_TweetI.rename(columns = {'cleaned_tweets':'text'})\n",
    "n_TweetI.head(2)"
   ]
  },
  {
   "cell_type": "code",
   "execution_count": null,
   "metadata": {},
   "outputs": [],
   "source": [
    "cleaned_Tweets = get_sentiment(n_TweetI)"
   ]
  },
  {
   "cell_type": "code",
   "execution_count": 22,
   "metadata": {},
   "outputs": [
    {
     "name": "stdout",
     "output_type": "stream",
     "text": [
      "<wordcloud.wordcloud.WordCloud object at 0x0000020FAE2AE188>\n"
     ]
    },
    {
     "data": {
      "image/png": "[encoded data removed]",
      "text/plain": [
       "<Figure size 432x288 with 1 Axes>"
      ]
     },
     "metadata": {
      "needs_background": "light"
     },
     "output_type": "display_data"
    }
   ],
   "source": [
    "wordcloud = WordCloud(\n",
    "                          background_color='white',\n",
    "                          stopwords=stop_words,\n",
    "                          max_words=100,\n",
    "                          max_font_size=50, \n",
    "                          random_state=42\n",
    "                         ).generate(str(corpus))\n",
    "print(wordcloud)\n",
    "fig = plt.figure(1)\n",
    "plt.imshow(wordcloud)\n",
    "plt.axis('off')\n",
    "plt.show()\n",
    "fig.savefig(\"AtikuSupremeCourt.png\", dpi=900)"
   ]
  },
  {
   "cell_type": "code",
   "execution_count": null,
   "metadata": {},
   "outputs": [],
   "source": []
  }
 ],
 "metadata": {
  "kernelspec": {
   "display_name": "Python 3",
   "language": "python",
   "name": "python3"
  },
  "language_info": {
   "codemirror_mode": {
    "name": "ipython",
    "version": 3
   },
   "file_extension": ".py",
   "mimetype": "text/x-python",
   "name": "python",
   "nbconvert_exporter": "python",
   "pygments_lexer": "ipython3",
   "version": "3.7.4"
  }
 },
 "nbformat": 4,
 "nbformat_minor": 2
}
